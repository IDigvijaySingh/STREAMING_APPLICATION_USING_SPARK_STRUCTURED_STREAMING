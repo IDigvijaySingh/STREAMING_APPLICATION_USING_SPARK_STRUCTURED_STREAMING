{
 "cells": [
  {
   "cell_type": "code",
   "execution_count": 11,
   "metadata": {},
   "outputs": [],
   "source": [
    "import os\n",
    "os.environ['PYSPARK_SUBMIT_ARGS'] = '--packages org.apache.spark:spark-streaming-kafka-0-10_2.12:3.0.0,org.apache.spark:spark-sql-kafka-0-10_2.12:3.0.0 pyspark-shell'\n",
    "\n",
    "from pyspark.ml.pipeline import PipelineModel\n",
    "from pyspark import SparkConf, SparkContext\n",
    "from pyspark.sql import SparkSession\n",
    "from pyspark.sql.functions import explode\n",
    "from pyspark.sql.functions import split\n",
    "from pyspark.sql import functions as F\n",
    "from pyspark.sql.types import *\n",
    "from pyspark.sql.functions import col,isnan, isnull,count,when\n",
    "from pyspark.sql.functions import regexp_extract,regexp_replace\n",
    "from pyspark.sql.functions import col,isnan, isnull,count,when\n",
    "from pyspark.sql.functions import expr\n",
    "from pytz import timezone\n",
    "import datetime as dt\n",
    "\n",
    "from pyspark.sql.types import BooleanType, StructType, StringType, TimestampType\n",
    "\n",
    "master = 'local[2]'        \n",
    "app_name = 'Application for Streaming'\n",
    "\n",
    "config  = SparkConf().setMaster(master).setAppName(app_name)\n",
    "spark = SparkSession.builder.config(conf=config).config('spark.sql.session.timeZone', 'UTC').getOrCreate()\n",
    "\n",
    "sc = spark.sparkContext"
   ]
  },
  {
   "cell_type": "markdown",
   "metadata": {},
   "source": [
    "### PROCESS "
   ]
  },
  {
   "cell_type": "code",
   "execution_count": 12,
   "metadata": {
    "scrolled": true
   },
   "outputs": [
    {
     "name": "stdout",
     "output_type": "stream",
     "text": [
      "root\n",
      " |-- sequence: integer (nullable = true)\n",
      " |-- machine: integer (nullable = true)\n",
      " |-- PID: integer (nullable = true)\n",
      " |-- TRUN: integer (nullable = true)\n",
      " |-- TSLPI: integer (nullable = true)\n",
      " |-- TSLPU: integer (nullable = true)\n",
      " |-- POLI: string (nullable = true)\n",
      " |-- NICE: integer (nullable = true)\n",
      " |-- PRI: integer (nullable = true)\n",
      " |-- RTPR: integer (nullable = true)\n",
      " |-- CPUNR: integer (nullable = true)\n",
      " |-- Status: string (nullable = true)\n",
      " |-- EXC: integer (nullable = true)\n",
      " |-- State: string (nullable = true)\n",
      " |-- CPU: integer (nullable = true)\n",
      " |-- CMD: string (nullable = true)\n",
      " |-- ts: integer (nullable = true)\n",
      "\n"
     ]
    }
   ],
   "source": [
    "topic1 = 'process'\n",
    "\n",
    "df_process = spark \\\n",
    "          .readStream \\\n",
    "          .format(\"kafka\") \\\n",
    "          .option(\"kafka.bootstrap.servers\", \"127.0.0.1:9092\") \\\n",
    "          .option(\"subscribe\", topic1) \\\n",
    "          .load()\n",
    "\n",
    "New_Process_df = df_process.select(F.col('value').cast('string').alias('value'))\n",
    "\n",
    "Process_schema = ArrayType(StructType([\n",
    "    StructField('sequence',StringType(),True),\n",
    "    StructField('machine',StringType(),True),\n",
    "    StructField('PID',StringType(),True),\n",
    "    StructField('TRUN',StringType(),True),\n",
    "    StructField('TSLPI',StringType(),True),\n",
    "    StructField('TSLPU',StringType(),True),\n",
    "    StructField('POLI',StringType(),True),\n",
    "    StructField('NICE',StringType(),True),\n",
    "    StructField('PRI',StringType(),True),\n",
    "    StructField('RTPR',StringType(),True),\n",
    "    StructField('CPUNR',StringType(),True),\n",
    "    StructField('Status',StringType(),True),\n",
    "    StructField('EXC', StringType(), True),\n",
    "    StructField('State', StringType(), True),\n",
    "    StructField('CPU', StringType(), True),\n",
    "    StructField('CMD', StringType(), True),\n",
    "    StructField('ts',StringType(),True)\n",
    "    ]))\n",
    "\n",
    "New_Process_df = New_Process_df.select(F.from_json(F.col('value').cast(\"string\"),Process_schema).alias('parsed_value'))\n",
    "\n",
    "New_Process_df = New_Process_df.select(F.explode(F.col(\"parsed_value\")).alias('unnested_value'))  \n",
    "\n",
    "New_Process_df = New_Process_df.select(F.col('unnested_value.sequence').alias('sequence'),\n",
    "                        F.col('unnested_value.machine').alias('machine'),\n",
    "                        F.col('unnested_value.PID').alias('PID'),\n",
    "                        F.col('unnested_value.TRUN').alias('TRUN'),\n",
    "                        F.col('unnested_value.TSLPI').alias('TSLPI'),\n",
    "                        F.col('unnested_value.TSLPU').alias('TSLPU'),\n",
    "                        F.col('unnested_value.POLI').alias('POLI'),\n",
    "                        F.col('unnested_value.NICE').alias('NICE'),\n",
    "                        F.col('unnested_value.PRI').alias('PRI'),\n",
    "                        F.col('unnested_value.RTPR').alias('RTPR'),\n",
    "                        F.col('unnested_value.CPUNR').alias('CPUNR'),\n",
    "                        F.col('unnested_value.Status').alias('Status'),\n",
    "                         F.col('unnested_value.EXC').alias('EXC'),\n",
    "                         F.col('unnested_value.State').alias('State'),\n",
    "                         F.col('unnested_value.CPU').alias('CPU'),\n",
    "                         F.col('unnested_value.CMD').alias('CMD'),\n",
    "                        F.col('unnested_value.ts').alias('ts'))\n",
    "\n",
    "mapping = {'0':'0','100':'20','101':'19','109':'11','110':'10','120':'0','121':'1','130':'10','139':'19'}\n",
    "\n",
    "New_Process_df = New_Process_df.select(F.col('sequence').cast('integer').alias('sequence'),\n",
    "                        F.col('machine').cast('integer').alias('machine'),\n",
    "                        F.col('PID').cast('integer').alias('PID'),\n",
    "                        F.col('TRUN').cast('integer').alias('TRUN'),\n",
    "                        F.col('TSLPI').cast('integer').alias('TSLPI'),\n",
    "                        F.col('TSLPU').cast('integer').alias('TSLPU'),\n",
    "                        F.col('POLI').cast('string').alias('POLI'),\n",
    "                        F.col('NICE').cast('integer').alias('NICE'),\n",
    "                        F.col('PRI').cast('integer').alias('PRI'),\n",
    "                        F.col('RTPR').cast('integer').alias('RTPR'),\n",
    "                        F.col('CPUNR').cast('integer').alias('CPUNR'),\n",
    "                        F.col('Status').cast('string').alias('Status'),\n",
    "                        F.col('EXC').cast('integer').alias('EXC'),\n",
    "                        F.col('State').cast('string').alias('State'),\n",
    "                        F.col('CPU').cast('integer').alias('CPU'),\n",
    "                        F.col('CMD').cast('string').alias('CMD'),\n",
    "                        F.col('ts').cast('integer').alias('ts'))\n",
    "\n",
    "New_Process_df.printSchema()"
   ]
  },
  {
   "cell_type": "code",
   "execution_count": 13,
   "metadata": {},
   "outputs": [],
   "source": [
    "def foreach_batch_function(df, epoch_id):\n",
    "    \n",
    "    df.show(10,False)\n",
    "    \n",
    "q1 = New_Process_df.writeStream.foreachBatch(foreach_batch_function).start()   "
   ]
  },
  {
   "cell_type": "code",
   "execution_count": 14,
   "metadata": {},
   "outputs": [],
   "source": [
    "process_query = New_Process_df \\\n",
    "    .writeStream \\\n",
    "    .outputMode(\"append\") \\\n",
    "    .format(\"console\").start()\n"
   ]
  },
  {
   "cell_type": "code",
   "execution_count": 15,
   "metadata": {},
   "outputs": [
    {
     "ename": "KeyboardInterrupt",
     "evalue": "",
     "output_type": "error",
     "traceback": [
      "\u001b[0;31m---------------------------------------------------------------------------\u001b[0m",
      "\u001b[0;31mKeyboardInterrupt\u001b[0m                         Traceback (most recent call last)",
      "\u001b[0;32m<ipython-input-15-a8cb9634da1f>\u001b[0m in \u001b[0;36m<module>\u001b[0;34m\u001b[0m\n\u001b[0;32m----> 1\u001b[0;31m \u001b[0mq1\u001b[0m\u001b[0;34m.\u001b[0m\u001b[0mstop\u001b[0m\u001b[0;34m(\u001b[0m\u001b[0;34m)\u001b[0m\u001b[0;34m\u001b[0m\u001b[0;34m\u001b[0m\u001b[0m\n\u001b[0m",
      "\u001b[0;32m~/.local/lib/python3.8/site-packages/pyspark/sql/streaming.py\u001b[0m in \u001b[0;36mstop\u001b[0;34m(self)\u001b[0m\n\u001b[1;32m    151\u001b[0m         \"\"\"Stop this streaming query.\n\u001b[1;32m    152\u001b[0m         \"\"\"\n\u001b[0;32m--> 153\u001b[0;31m         \u001b[0mself\u001b[0m\u001b[0;34m.\u001b[0m\u001b[0m_jsq\u001b[0m\u001b[0;34m.\u001b[0m\u001b[0mstop\u001b[0m\u001b[0;34m(\u001b[0m\u001b[0;34m)\u001b[0m\u001b[0;34m\u001b[0m\u001b[0;34m\u001b[0m\u001b[0m\n\u001b[0m\u001b[1;32m    154\u001b[0m \u001b[0;34m\u001b[0m\u001b[0m\n\u001b[1;32m    155\u001b[0m     \u001b[0;34m@\u001b[0m\u001b[0msince\u001b[0m\u001b[0;34m(\u001b[0m\u001b[0;36m2.1\u001b[0m\u001b[0;34m)\u001b[0m\u001b[0;34m\u001b[0m\u001b[0;34m\u001b[0m\u001b[0m\n",
      "\u001b[0;32m~/.local/lib/python3.8/site-packages/py4j/java_gateway.py\u001b[0m in \u001b[0;36m__call__\u001b[0;34m(self, *args)\u001b[0m\n\u001b[1;32m   1301\u001b[0m             \u001b[0mproto\u001b[0m\u001b[0;34m.\u001b[0m\u001b[0mEND_COMMAND_PART\u001b[0m\u001b[0;34m\u001b[0m\u001b[0;34m\u001b[0m\u001b[0m\n\u001b[1;32m   1302\u001b[0m \u001b[0;34m\u001b[0m\u001b[0m\n\u001b[0;32m-> 1303\u001b[0;31m         \u001b[0manswer\u001b[0m \u001b[0;34m=\u001b[0m \u001b[0mself\u001b[0m\u001b[0;34m.\u001b[0m\u001b[0mgateway_client\u001b[0m\u001b[0;34m.\u001b[0m\u001b[0msend_command\u001b[0m\u001b[0;34m(\u001b[0m\u001b[0mcommand\u001b[0m\u001b[0;34m)\u001b[0m\u001b[0;34m\u001b[0m\u001b[0;34m\u001b[0m\u001b[0m\n\u001b[0m\u001b[1;32m   1304\u001b[0m         return_value = get_return_value(\n\u001b[1;32m   1305\u001b[0m             answer, self.gateway_client, self.target_id, self.name)\n",
      "\u001b[0;32m~/.local/lib/python3.8/site-packages/py4j/java_gateway.py\u001b[0m in \u001b[0;36msend_command\u001b[0;34m(self, command, retry, binary)\u001b[0m\n\u001b[1;32m   1031\u001b[0m         \u001b[0mconnection\u001b[0m \u001b[0;34m=\u001b[0m \u001b[0mself\u001b[0m\u001b[0;34m.\u001b[0m\u001b[0m_get_connection\u001b[0m\u001b[0;34m(\u001b[0m\u001b[0;34m)\u001b[0m\u001b[0;34m\u001b[0m\u001b[0;34m\u001b[0m\u001b[0m\n\u001b[1;32m   1032\u001b[0m         \u001b[0;32mtry\u001b[0m\u001b[0;34m:\u001b[0m\u001b[0;34m\u001b[0m\u001b[0;34m\u001b[0m\u001b[0m\n\u001b[0;32m-> 1033\u001b[0;31m             \u001b[0mresponse\u001b[0m \u001b[0;34m=\u001b[0m \u001b[0mconnection\u001b[0m\u001b[0;34m.\u001b[0m\u001b[0msend_command\u001b[0m\u001b[0;34m(\u001b[0m\u001b[0mcommand\u001b[0m\u001b[0;34m)\u001b[0m\u001b[0;34m\u001b[0m\u001b[0;34m\u001b[0m\u001b[0m\n\u001b[0m\u001b[1;32m   1034\u001b[0m             \u001b[0;32mif\u001b[0m \u001b[0mbinary\u001b[0m\u001b[0;34m:\u001b[0m\u001b[0;34m\u001b[0m\u001b[0;34m\u001b[0m\u001b[0m\n\u001b[1;32m   1035\u001b[0m                 \u001b[0;32mreturn\u001b[0m \u001b[0mresponse\u001b[0m\u001b[0;34m,\u001b[0m \u001b[0mself\u001b[0m\u001b[0;34m.\u001b[0m\u001b[0m_create_connection_guard\u001b[0m\u001b[0;34m(\u001b[0m\u001b[0mconnection\u001b[0m\u001b[0;34m)\u001b[0m\u001b[0;34m\u001b[0m\u001b[0;34m\u001b[0m\u001b[0m\n",
      "\u001b[0;32m~/.local/lib/python3.8/site-packages/py4j/java_gateway.py\u001b[0m in \u001b[0;36msend_command\u001b[0;34m(self, command)\u001b[0m\n\u001b[1;32m   1198\u001b[0m \u001b[0;34m\u001b[0m\u001b[0m\n\u001b[1;32m   1199\u001b[0m         \u001b[0;32mtry\u001b[0m\u001b[0;34m:\u001b[0m\u001b[0;34m\u001b[0m\u001b[0;34m\u001b[0m\u001b[0m\n\u001b[0;32m-> 1200\u001b[0;31m             \u001b[0manswer\u001b[0m \u001b[0;34m=\u001b[0m \u001b[0msmart_decode\u001b[0m\u001b[0;34m(\u001b[0m\u001b[0mself\u001b[0m\u001b[0;34m.\u001b[0m\u001b[0mstream\u001b[0m\u001b[0;34m.\u001b[0m\u001b[0mreadline\u001b[0m\u001b[0;34m(\u001b[0m\u001b[0;34m)\u001b[0m\u001b[0;34m[\u001b[0m\u001b[0;34m:\u001b[0m\u001b[0;34m-\u001b[0m\u001b[0;36m1\u001b[0m\u001b[0;34m]\u001b[0m\u001b[0;34m)\u001b[0m\u001b[0;34m\u001b[0m\u001b[0;34m\u001b[0m\u001b[0m\n\u001b[0m\u001b[1;32m   1201\u001b[0m             \u001b[0mlogger\u001b[0m\u001b[0;34m.\u001b[0m\u001b[0mdebug\u001b[0m\u001b[0;34m(\u001b[0m\u001b[0;34m\"Answer received: {0}\"\u001b[0m\u001b[0;34m.\u001b[0m\u001b[0mformat\u001b[0m\u001b[0;34m(\u001b[0m\u001b[0manswer\u001b[0m\u001b[0;34m)\u001b[0m\u001b[0;34m)\u001b[0m\u001b[0;34m\u001b[0m\u001b[0;34m\u001b[0m\u001b[0m\n\u001b[1;32m   1202\u001b[0m             \u001b[0;32mif\u001b[0m \u001b[0manswer\u001b[0m\u001b[0;34m.\u001b[0m\u001b[0mstartswith\u001b[0m\u001b[0;34m(\u001b[0m\u001b[0mproto\u001b[0m\u001b[0;34m.\u001b[0m\u001b[0mRETURN_MESSAGE\u001b[0m\u001b[0;34m)\u001b[0m\u001b[0;34m:\u001b[0m\u001b[0;34m\u001b[0m\u001b[0;34m\u001b[0m\u001b[0m\n",
      "\u001b[0;32m/usr/lib/python3.8/socket.py\u001b[0m in \u001b[0;36mreadinto\u001b[0;34m(self, b)\u001b[0m\n\u001b[1;32m    667\u001b[0m         \u001b[0;32mwhile\u001b[0m \u001b[0;32mTrue\u001b[0m\u001b[0;34m:\u001b[0m\u001b[0;34m\u001b[0m\u001b[0;34m\u001b[0m\u001b[0m\n\u001b[1;32m    668\u001b[0m             \u001b[0;32mtry\u001b[0m\u001b[0;34m:\u001b[0m\u001b[0;34m\u001b[0m\u001b[0;34m\u001b[0m\u001b[0m\n\u001b[0;32m--> 669\u001b[0;31m                 \u001b[0;32mreturn\u001b[0m \u001b[0mself\u001b[0m\u001b[0;34m.\u001b[0m\u001b[0m_sock\u001b[0m\u001b[0;34m.\u001b[0m\u001b[0mrecv_into\u001b[0m\u001b[0;34m(\u001b[0m\u001b[0mb\u001b[0m\u001b[0;34m)\u001b[0m\u001b[0;34m\u001b[0m\u001b[0;34m\u001b[0m\u001b[0m\n\u001b[0m\u001b[1;32m    670\u001b[0m             \u001b[0;32mexcept\u001b[0m \u001b[0mtimeout\u001b[0m\u001b[0;34m:\u001b[0m\u001b[0;34m\u001b[0m\u001b[0;34m\u001b[0m\u001b[0m\n\u001b[1;32m    671\u001b[0m                 \u001b[0mself\u001b[0m\u001b[0;34m.\u001b[0m\u001b[0m_timeout_occurred\u001b[0m \u001b[0;34m=\u001b[0m \u001b[0;32mTrue\u001b[0m\u001b[0;34m\u001b[0m\u001b[0;34m\u001b[0m\u001b[0m\n",
      "\u001b[0;31mKeyboardInterrupt\u001b[0m: "
     ]
    }
   ],
   "source": [
    "q1.stop()"
   ]
  },
  {
   "cell_type": "markdown",
   "metadata": {},
   "source": [
    "### MEMORY"
   ]
  },
  {
   "cell_type": "code",
   "execution_count": null,
   "metadata": {},
   "outputs": [],
   "source": [
    "topic2 = 'memory'\n",
    "df_memory = spark \\\n",
    "          .readStream \\\n",
    "          .format(\"kafka\") \\\n",
    "          .option(\"kafka.bootstrap.servers\", \"127.0.0.1:9092\") \\\n",
    "          .option(\"subscribe\", topic2) \\\n",
    "          .load()\n",
    "\n",
    "New_Memory_df= df_memory.selectExpr(\"CAST(value AS STRING)\")\n",
    "\n",
    "memory_schema = ArrayType(StructType([\n",
    "    StructField('sequence',StringType(),True),  \n",
    "    StructField('machine',StringType(),True),\n",
    "    StructField('PID',StringType(),True),\n",
    "    StructField('MINFLT',StringType(),True),\n",
    "    StructField('MAJFLT',StringType(),True),\n",
    "    StructField('VSTEXT',StringType(),True),\n",
    "    StructField('VSIZE',StringType(),True),\n",
    "    StructField('RSIZE',StringType(),True),\n",
    "    StructField('VGROW',StringType(),True),\n",
    "    StructField('RGROW',StringType(),True),\n",
    "    StructField('MEM',StringType(),True),\n",
    "    StructField('CMD',StringType(),True),\n",
    "    StructField('ts',StringType(),True)\n",
    "]))\n",
    "\n",
    "New_Memory_df = New_Memory_df.select(F.from_json(F.col('value').cast(\"string\"),memory_schema).alias('parsed_value'))\n",
    "\n",
    "New_Memory_df = New_Memory_df.select(F.explode(F.col(\"parsed_value\")).alias('unnested_value'))\n",
    "\n",
    "New_Memory_df = New_Memory_df.select(F.col('unnested_value.sequence').alias('sequence'),   \n",
    "                        F.col('unnested_value.machine').alias('machine'),\n",
    "                        F.col('unnested_value.PID').alias('PID'),\n",
    "                        F.col('unnested_value.MINFLT').alias('MINFLT'),\n",
    "                        F.col('unnested_value.MAJFLT').alias('MAJFLT'),\n",
    "                        F.col('unnested_value.VSTEXT').alias('VSTEXT'),\n",
    "                        F.col('unnested_value.VSIZE').alias('VSIZE'),\n",
    "                        F.col('unnested_value.RSIZE').alias('RSIZE'),\n",
    "                        F.col('unnested_value.VGROW').alias('VGROW'),\n",
    "                        F.col('unnested_value.RGROW').alias('RGROW'),\n",
    "                        F.col('unnested_value.MEM').alias('MEM'),\n",
    "                        F.col('unnested_value.CMD').alias('CMD'),\n",
    "                        F.col('unnested_value.ts').alias('ts'))\n",
    "\n",
    "for i in New_Memory_df.columns:\n",
    "    New_Memory_df=New_Memory_df.withColumn(i, F.when(New_Memory_df[i].rlike('0K') == True, regexp_replace(i,'K','')).otherwise(New_Memory_df[i]))\n",
    "    New_Memory_df=New_Memory_df.withColumn(i, F.when(New_Memory_df[i].rlike('K') == True, regexp_replace(i,'K','000')).otherwise(New_Memory_df[i]))\n",
    "    New_Memory_df=New_Memory_df.withColumn(i, F.when(New_Memory_df[i].rlike('\\s') == True, regexp_replace(i,'\\s','')).otherwise(New_Memory_df[i]))\n",
    "    New_Memory_df=New_Memory_df.withColumn(i, F.when(New_Memory_df[i].rlike('\\d+\\.[1-9]M') == True, regexp_replace(i,'\\.','')).otherwise(New_Memory_df[i]))\n",
    "    New_Memory_df=New_Memory_df.withColumn(i, F.when(New_Memory_df[i].rlike('\\d+M') == True, regexp_replace(i,'M','00000')).otherwise(New_Memory_df[i]))\n",
    "\n",
    "New_Memory_df =New_Memory_df.select(F.col('sequence').cast('integer').alias('sequence'),   \n",
    "                        F.col('machine').cast('integer').alias('machine'),\n",
    "                        F.col('PID').cast('integer').alias('PID'),\n",
    "                        F.col('MINFLT').cast('integer').alias('MINFLT'),\n",
    "                        F.col('MAJFLT').cast('integer').alias('MAJFLT'),\n",
    "                        F.col('VSTEXT').cast('integer').alias('VSTEXT'),\n",
    "                        F.col('VSIZE').cast('integer').alias('VSIZE'),\n",
    "                        F.col('RSIZE').cast('integer').alias('RSIZE'),\n",
    "                        F.col('VGROW').cast('integer').alias('VGROW'),\n",
    "                        F.col('RGROW').cast('integer').alias('RGROW'),\n",
    "                        F.col('MEM').cast('integer').alias('MEM'),\n",
    "                        F.col('CMD').cast('string').alias('CMD'),\n",
    "                        F.col('ts').cast('integer').alias('ts'))\n",
    "\n",
    "New_Memory_df.printSchema()"
   ]
  },
  {
   "cell_type": "code",
   "execution_count": null,
   "metadata": {},
   "outputs": [],
   "source": [
    "def foreach_batch_function(df, epoch_id):\n",
    "   \n",
    "    df.show(10,False)\n",
    "\n",
    "q1 = New_Memory_df.writeStream.foreachBatch(foreach_batch_function).start()   \n"
   ]
  },
  {
   "cell_type": "code",
   "execution_count": null,
   "metadata": {},
   "outputs": [],
   "source": [
    "memory_query = New_Memory_df \\\n",
    "    .writeStream \\\n",
    "    .outputMode(\"append\") \\\n",
    "    .format(\"console\")\\\n",
    "    .option(\"truncate\",\"false\")\\\n",
    "    .start()"
   ]
  },
  {
   "cell_type": "code",
   "execution_count": null,
   "metadata": {},
   "outputs": [],
   "source": [
    "memory_query.stop()"
   ]
  },
  {
   "cell_type": "code",
   "execution_count": null,
   "metadata": {},
   "outputs": [],
   "source": [
    "#Process\n",
    "\n",
    "New_Process_df = New_Process_df.withColumn('CMD_PID',F.concat(F.expr('CMD'), F.expr('PID').cast('string')).alias('CMD_PID'))\n",
    "\n",
    "New_Process_df = New_Process_df.withColumn('event_time', F.col('ts').cast('timestamp'))\n",
    "\n",
    "Window_Process_df = New_Process_df.withWatermark('event_time', '20 seconds')\n",
    "\n",
    "#Memory\n",
    "\n",
    "New_Memory_df = New_Memory_df.withColumn('CMD_PID',F.concat(F.expr('CMD'), F.expr('PID').cast('string')).alias('CMD_PID'))\n",
    "\n",
    "New_Memory_df = New_Memory_df.withColumn('event_time', F.col('ts').cast('timestamp'))\n",
    "\n",
    "Window_Memory_df = New_Memory_df.withWatermark('event_time', '20 seconds')\n"
   ]
  },
  {
   "cell_type": "code",
   "execution_count": null,
   "metadata": {},
   "outputs": [],
   "source": [
    "if 'checkpoints' in os.listdir():\n",
    "    print('Checkpoint folder exists')\n",
    "else:\n",
    "    os.mkdir('checkpoints')\n",
    "\n",
    "\n",
    "Window_Process_df.writeStream.format(\"parquet\").option(\"checkpointLocation\", \"checkpoints\").option(\"path\", \"process/process.parquet\").start()\n",
    "    \n",
    "Window_Memory_df.writeStream.format(\"parquet\").option(\"checkpointLocation\", \"checkpoints\").option(\"path\", \"process/memory.parquet\").start()\n"
   ]
  },
  {
   "cell_type": "code",
   "execution_count": null,
   "metadata": {},
   "outputs": [],
   "source": [
    "ProcessModel = PipelineModel.load('process_pipeline_model')\n",
    "\n",
    "MemoryModel = PipelineModel.load('memory_pipeline_model')"
   ]
  },
  {
   "cell_type": "code",
   "execution_count": null,
   "metadata": {
    "scrolled": false
   },
   "outputs": [],
   "source": [
    "#Process\n",
    "Process_df = ProcessModel.transform(Window_Process_df)\n",
    "Process_df = Process_df.select(F.col('sequence'), F.col('machine'),F.col('PID'),F.col('TRUN'),F.col('TSLPI'),\\\n",
    "                 F.col('TSLPU'),F.col('POLI'),F.col('NICE'),F.col('PRI'),F.col('RTPR'),\\\n",
    "                 F.col('CPUNR'),F.col('Status'), F.col('EXC'), F.col('State'),F.col('CPU'),F.col('CMD'),F.col('ts'),\\\n",
    "                 F.col('event_time'), F.col('CMD_PID'),F.col('prediction'))\n",
    "\n",
    "#Memory \n",
    "Memory_df = MemoryModel.transform(Window_Memory_df)\n",
    "Memory_df = Memory_df.select(F.col('sequence'),F.col('machine'),F.col('PID'),F.col('MINFLT'),F.col('MAJFLT'),F.col('VSTEXT'),\\\n",
    "                 F.col('VSIZE'),F.col('RSIZE'),F.col('VGROW'),F.col('RGROW'),F.col('MEM'),F.col('CMD'),F.col('ts'),\\\n",
    "                 F.col('event_time'),F.col('CMD_PID'),F.col('prediction'))"
   ]
  },
  {
   "cell_type": "code",
   "execution_count": null,
   "metadata": {},
   "outputs": [],
   "source": [
    "def foreach_batch_function(df, epoch_id):\n",
    "   \n",
    "    df.show(10,False)"
   ]
  },
  {
   "cell_type": "code",
   "execution_count": null,
   "metadata": {},
   "outputs": [],
   "source": [
    "#Process\n",
    "windowed_Process_df = Process_df.filter(F.col('prediction') == 1.0)\n",
    "windowed_Process_df = windowed_Process_df.select(F.col('machine'),F.col('event_time'),F.col('CMD_PID'))\\\n",
    "                .groupBy('machine', F.window('event_time', \"2 Minutes\")).agg(F.approx_count_distinct('CMD_PID').alias('count'))\n",
    "\n",
    "\n",
    "Process_sink = windowed_Process_df.writeStream \\\n",
    "    .queryName(\"Process_sink\") \\\n",
    "    .outputMode(\"complete\") \\\n",
    "    .format(\"memory\") \\\n",
    "    .start()\n",
    "\n",
    "#Memory\n",
    "windowed_Memory_df = Memory_df.filter(F.col('prediction') == 1.0)\n",
    "windowed_Memory_df = windowed_Memory_df.select(F.col('machine'),F.col('event_time'),F.col('CMD_PID'))\\\n",
    "                .groupBy('machine', F.window('event_time', \"2 Minutes\")).agg(F.approx_count_distinct('CMD_PID').alias('count'))\n",
    "\n",
    "Memory_sink = windowed_Memory_df.writeStream \\\n",
    "    .queryName(\"Memory_sink\") \\\n",
    "    .outputMode(\"complete\") \\\n",
    "    .format(\"memory\") \\\n",
    "    .start()"
   ]
  },
  {
   "cell_type": "code",
   "execution_count": null,
   "metadata": {},
   "outputs": [],
   "source": [
    "def foreach_batch_function(df, epoch_id):   \n",
    "    df.show(20,False)\n",
    "q1 = windowed_Memory_df.writeStream.foreachBatch(foreach_batch_function).start()   "
   ]
  },
  {
   "cell_type": "code",
   "execution_count": null,
   "metadata": {
    "scrolled": false
   },
   "outputs": [],
   "source": [
    "Window_process = Process_df.withColumnRenamed('CMD_PID','wp_CMD_PID')\n",
    "Window_process = Window_process.withWatermark('event_time','30 seconds')\n",
    "\n",
    "Window_memory = Memory_df.withColumnRenamed('CMD_PID','wm_CMD_PID')\n",
    "Window_memory = Window_memory.withWatermark('event_time','30 seconds')\n",
    "\n",
    "Join_df = Window_process.join(Window_memory,expr(\"\"\"wp_CMD_PID == wm_CMD_PID\"\"\"),\"inner\")\n",
    "\n",
    "Join_df.withColumn('processing_time', F.lit(dt.datetime.now(timezone('UTC'))))"
   ]
  },
  {
   "cell_type": "code",
   "execution_count": null,
   "metadata": {},
   "outputs": [],
   "source": [
    "Join_df.writeStream.format(\"parquet\")\\\n",
    "        .option(\"checkpointLocation\", \"checkpoints\")\\\n",
    "        .option(\"path\", \"process/process_memory_attack.parquet\").start()"
   ]
  },
  {
   "cell_type": "code",
   "execution_count": null,
   "metadata": {
    "scrolled": false
   },
   "outputs": [],
   "source": [
    "q1 = Join_df.writeStream.foreachBatch(foreach_batch_function).start()"
   ]
  },
  {
   "cell_type": "code",
   "execution_count": null,
   "metadata": {},
   "outputs": [],
   "source": [
    "def init_plots():\n",
    "    try:\n",
    "        width = 9.5\n",
    "        height = 6\n",
    "        fig = plt.figure(figsize=(width,height)) \n",
    "        fig.subplots_adjust(hspace=0.8)\n",
    "        ax = fig.add_subplot(111) \n",
    "        ax.set_xlabel('Time')\n",
    "        ax.set_ylabel('Counts')\n",
    "        ax.title.set_text('Time Vs Value')\n",
    "        fig.suptitle('Supected_Attacks') \n",
    "        fig.show() \n",
    "        fig.canvas.draw() \n",
    "        return fig, ax\n",
    "    except Exception as ex:\n",
    "        print(str(ex))"
   ]
  },
  {
   "cell_type": "code",
   "execution_count": null,
   "metadata": {},
   "outputs": [],
   "source": [
    "import time\n",
    "import matplotlib.pyplot as plt\n",
    "%matplotlib notebook\n",
    "\n",
    "fig, ax = init_plots()\n",
    "\n",
    "            msg = msg.append(data)\n",
    "            \n",
    "            if True:\n",
    "                \n",
    "                t_0 = dt.datetime.utcfromtimestamp(int(list(msg['event_ts'])[0])).strftime('%M')\n",
    "                t_1 = dt.datetime.utcfromtimestamp(int(list(msg['event_ts'])[-1])).strftime('%M')\n",
    "               \n",
    "                ax.clear()\n",
    "                temp = msg.groupby(['machine','event_ts']).count().reset_index()\n",
    "                \n",
    "                for i in range(0,len(temp)):\n",
    "                    temp.loc[i,'event_time'] = str(dt.datetime.utcfromtimestamp(int(temp.loc[i,'event_time'])).strftime('%H:%M:%S'))\n",
    "                 \n",
    "                \n",
    "                mach4 = temp[temp['machine']=='4']\n",
    "                mach5 = temp[temp['machine']=='5']\n",
    "                mach6 = temp[temp['machine']=='6']\n",
    "                mach7 = temp[temp['machine']=='7']\n",
    "                mach8 = temp[temp['machine']=='8']\n",
    "                plt.plot(mach4['event_ts'],mach4['sequence'], label = '4', c='blue')\n",
    "                plt.plot(mach5['event_ts'],mach5['sequence'], label = '5', c='green')\n",
    "                plt.plot(mach6['event_ts'],mach6['sequence'], label = '6', c='black')\n",
    "                plt.plot(mach7['event_ts'],mach7['sequence'], label = '7', c='red')\n",
    "                plt.plot(mach8['event_ts'],mach8['sequence'], label = '8', c='purple')\n",
    "                plt.xticks(rotation=45)\n",
    "              \n",
    "                ax.legend()\n",
    "                fig.show()\n",
    "                fig.canvas.draw()\n",
    "                if abs(int(t_1)-int(t_0)) >= 2:\n",
    "                    msg = msg[msg['ts'] !=list(msg['ts'])[0]].copy()\n",
    "        plt.close('all')\n",
    "\n",
    "    except Exception as ex:\n",
    "        print(str(ex))\n"
   ]
  }
 ],
 "metadata": {
  "kernelspec": {
   "display_name": "Python 3",
   "language": "python",
   "name": "python3"
  },
  "language_info": {
   "codemirror_mode": {
    "name": "ipython",
    "version": 3
   },
   "file_extension": ".py",
   "mimetype": "text/x-python",
   "name": "python",
   "nbconvert_exporter": "python",
   "pygments_lexer": "ipython3",
   "version": "3.8.2"
  }
 },
 "nbformat": 4,
 "nbformat_minor": 4
}
